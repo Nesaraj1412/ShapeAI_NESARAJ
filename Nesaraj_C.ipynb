{
  "nbformat": 4,
  "nbformat_minor": 0,
  "metadata": {
    "colab": {
      "name": "Nesaraj C.ipynb",
      "provenance": [],
      "collapsed_sections": []
    },
    "kernelspec": {
      "name": "python3",
      "display_name": "Python 3"
    },
    "language_info": {
      "name": "python"
    }
  },
  "cells": [
    {
      "cell_type": "code",
      "metadata": {
        "id": "QxTCr-IoX1qq"
      },
      "source": [
        "from keras.datasets import mnist\n",
        "\n",
        "data = mnist.load_data()"
      ],
      "execution_count": 91,
      "outputs": []
    },
    {
      "cell_type": "code",
      "metadata": {
        "id": "AGTRjVxF9Opw"
      },
      "source": [
        "((X_train, y_train), (X_test, y_test)) = data"
      ],
      "execution_count": 92,
      "outputs": []
    },
    {
      "cell_type": "code",
      "metadata": {
        "id": "Wi-L0lPv9OtB"
      },
      "source": [
        "X_train = X_train.reshape((X_train.shape[0], 28*28)).astype('float32')\n",
        "X_test = X_test.reshape((X_test.shape[0], 28*28)).astype('float32')"
      ],
      "execution_count": 93,
      "outputs": []
    },
    {
      "cell_type": "code",
      "metadata": {
        "id": "QnJK8Uwd9c8S"
      },
      "source": [
        "X_train = X_train / 255\n",
        "X_test = X_test / 255"
      ],
      "execution_count": 94,
      "outputs": []
    },
    {
      "cell_type": "code",
      "metadata": {
        "colab": {
          "base_uri": "https://localhost:8080/"
        },
        "id": "9gGzCfBy9dST",
        "outputId": "0cc5378c-2c93-477c-c852-94275a59ca55"
      },
      "source": [
        "from keras.utils import np_utils\n",
        "print(y_test.shape)\n",
        "\n",
        "y_train = np_utils.to_categorical(y_train)\n",
        "y_test = np_utils.to_categorical(y_test)\n",
        "\n",
        "num_classes = y_test.shape[1]\n",
        "print(y_test.shape)"
      ],
      "execution_count": 95,
      "outputs": [
        {
          "output_type": "stream",
          "text": [
            "(10000,)\n",
            "(10000, 10)\n"
          ],
          "name": "stdout"
        }
      ]
    },
    {
      "cell_type": "markdown",
      "metadata": {
        "id": "7f-5FLP9-CIy"
      },
      "source": [
        "(10000,) \n",
        "(10000,10)"
      ]
    },
    {
      "cell_type": "code",
      "metadata": {
        "id": "HsUxixrP-JMx"
      },
      "source": [
        "from keras.models import Sequential\n",
        "from keras.layers import Dense"
      ],
      "execution_count": 97,
      "outputs": []
    },
    {
      "cell_type": "code",
      "metadata": {
        "id": "NE-MqSt5-PUW"
      },
      "source": [
        "model = Sequential()\n",
        "model.add(Dense(32, input_dim = 28*28, activation='relu'))\n",
        "model.add(Dense(64, activation='relu'))\n",
        "model.add(Dense(10, activation='softmax'))"
      ],
      "execution_count": 98,
      "outputs": []
    },
    {
      "cell_type": "code",
      "metadata": {
        "id": "f7fJub3q-XCW"
      },
      "source": [
        "model.compile(loss='categorical_crossentropy', optimizer='adam', metrics=['accuracy'])"
      ],
      "execution_count": 100,
      "outputs": []
    },
    {
      "cell_type": "code",
      "metadata": {
        "id": "XkMt9v6eXpSq",
        "colab": {
          "base_uri": "https://localhost:8080/"
        },
        "outputId": "1404f02e-5e9d-42c6-c7fa-96a19b6bbd28"
      },
      "source": [
        "model.summary()"
      ],
      "execution_count": 101,
      "outputs": [
        {
          "output_type": "stream",
          "text": [
            "Model: \"sequential_9\"\n",
            "_________________________________________________________________\n",
            "Layer (type)                 Output Shape              Param #   \n",
            "=================================================================\n",
            "dense_9 (Dense)              (None, 32)                25120     \n",
            "_________________________________________________________________\n",
            "dense_10 (Dense)             (None, 64)                2112      \n",
            "_________________________________________________________________\n",
            "dense_11 (Dense)             (None, 10)                650       \n",
            "=================================================================\n",
            "Total params: 27,882\n",
            "Trainable params: 27,882\n",
            "Non-trainable params: 0\n",
            "_________________________________________________________________\n"
          ],
          "name": "stdout"
        }
      ]
    },
    {
      "cell_type": "markdown",
      "metadata": {
        "id": "B5vRkags-nGd"
      },
      "source": [
        "model: \"sequential\"\n",
        "_____________________________________________\n",
        "Layer (type)       Output Shape    Param #\n",
        "=============================================\n",
        "dense (Dense)     (None, 32)      25120\n",
        "_____________________________________________\n",
        "dense_1 (Dense)   (None, 64)      2112\n",
        "_____________________________________________\n",
        "dense_2 (Dense)   (None, 10)      650\n",
        "=============================================\n",
        "Total params: 27,882 \n",
        "Trainable params: 27882 \n",
        "Non-trainable params: 0\n",
        "_____________________________________________\n"
      ]
    },
    {
      "cell_type": "code",
      "metadata": {
        "id": "ypoIR5mhX7-4",
        "colab": {
          "base_uri": "https://localhost:8080/"
        },
        "outputId": "249c1e66-672a-46c0-add5-4124b59f3720"
      },
      "source": [
        "model.fit(X_train, y_train, epochs=10, batch_size=100)"
      ],
      "execution_count": 102,
      "outputs": [
        {
          "output_type": "stream",
          "text": [
            "Epoch 1/10\n",
            "600/600 [==============================] - 2s 2ms/step - loss: 0.7654 - accuracy: 0.7775\n",
            "Epoch 2/10\n",
            "600/600 [==============================] - 1s 2ms/step - loss: 0.2064 - accuracy: 0.9408\n",
            "Epoch 3/10\n",
            "600/600 [==============================] - 1s 2ms/step - loss: 0.1533 - accuracy: 0.9556\n",
            "Epoch 4/10\n",
            "600/600 [==============================] - 1s 2ms/step - loss: 0.1291 - accuracy: 0.9625\n",
            "Epoch 5/10\n",
            "600/600 [==============================] - 1s 2ms/step - loss: 0.1067 - accuracy: 0.9679\n",
            "Epoch 6/10\n",
            "600/600 [==============================] - 1s 2ms/step - loss: 0.0941 - accuracy: 0.9725\n",
            "Epoch 7/10\n",
            "600/600 [==============================] - 1s 2ms/step - loss: 0.0883 - accuracy: 0.9733\n",
            "Epoch 8/10\n",
            "600/600 [==============================] - 1s 2ms/step - loss: 0.0790 - accuracy: 0.9758\n",
            "Epoch 9/10\n",
            "600/600 [==============================] - 1s 2ms/step - loss: 0.0677 - accuracy: 0.9791\n",
            "Epoch 10/10\n",
            "600/600 [==============================] - 1s 2ms/step - loss: 0.0654 - accuracy: 0.9802\n"
          ],
          "name": "stdout"
        },
        {
          "output_type": "execute_result",
          "data": {
            "text/plain": [
              "<tensorflow.python.keras.callbacks.History at 0x7f6d80ccad50>"
            ]
          },
          "metadata": {
            "tags": []
          },
          "execution_count": 102
        }
      ]
    },
    {
      "cell_type": "markdown",
      "metadata": {
        "id": "D0_ORuBQTypX"
      },
      "source": [
        "Epoch 1/10\n",
        "600/600 [==============================] - 2s 2ms/step - loss: 0.7690 - accuracy: 0.7710\n",
        "Epoch 2/10\n",
        "600/600 [==============================] - 1s 2ms/step - loss: 0.2095 - accuracy: 0.9403\n",
        "Epoch 3/10\n",
        "600/600 [==============================] - 2s 3ms/step - loss: 0.1626 - accuracy: 0.9519\n",
        "Epoch 4/10\n",
        "600/600 [==============================] - 1s 2ms/step - loss: 0.1374 - accuracy: 0.9600\n",
        "Epoch 5/10\n",
        "600/600 [==============================] - 1s 2ms/step - loss: 0.1138 - accuracy: 0.9659\n",
        "Epoch 6/10\n",
        "600/600 [==============================] - 1s 2ms/step - loss: 0.1016 - accuracy: 0.9686\n",
        "Epoch 7/10\n",
        "600/600 [==============================] - 1s 2ms/step - loss: 0.0878 - accuracy: 0.9738\n",
        "Epoch 8/10\n",
        "600/600 [==============================] - 1s 2ms/step - loss: 0.0742 - accuracy: 0.9779\n",
        "Epoch 9/10\n",
        "600/600 [==============================] - 1s 2ms/step - loss: 0.0719 - accuracy: 0.9781\n",
        "Epoch 10/10\n",
        "600/600 [==============================] - 1s 2ms/step - loss: 0.0656 - accuracy: 0.9799\n",
        "<tensorflow.python.keras.callbacks.history at 0x7fa231be4790>"
      ]
    },
    {
      "cell_type": "code",
      "metadata": {
        "colab": {
          "base_uri": "https://localhost:8080/"
        },
        "id": "fDTUofpJZbNI",
        "outputId": "82a36f96-3809-4d68-ade9-06a041cea351"
      },
      "source": [
        "scores = model.evaluate(X_test, y_test)\n",
        "print(scores)"
      ],
      "execution_count": 103,
      "outputs": [
        {
          "output_type": "stream",
          "text": [
            "313/313 [==============================] - 0s 1ms/step - loss: 0.1024 - accuracy: 0.9703\n",
            "[0.10237079858779907, 0.970300018787384]\n"
          ],
          "name": "stdout"
        }
      ]
    }
  ]
}